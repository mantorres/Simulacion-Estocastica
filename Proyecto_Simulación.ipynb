{
 "cells": [
  {
   "cell_type": "code",
   "execution_count": 1,
   "metadata": {},
   "outputs": [
    {
     "name": "stdout",
     "output_type": "stream",
     "text": [
      "Requirement already satisfied: mystic in c:\\users\\personal\\anaconda3\\lib\\site-packages (0.3.8)\n",
      "Requirement already satisfied: numpy<1.20.0,>=1.0 in c:\\users\\personal\\anaconda3\\lib\\site-packages (from mystic) (1.19.5)\n",
      "Requirement already satisfied: sympy>=0.6.7 in c:\\users\\personal\\anaconda3\\lib\\site-packages (from mystic) (1.8)\n",
      "Requirement already satisfied: klepto>=0.2.1 in c:\\users\\personal\\anaconda3\\lib\\site-packages (from mystic) (0.2.1)\n",
      "Requirement already satisfied: dill>=0.3.4 in c:\\users\\personal\\anaconda3\\lib\\site-packages (from mystic) (0.3.4)\n",
      "Requirement already satisfied: pox>=0.3.0 in c:\\users\\personal\\anaconda3\\lib\\site-packages (from klepto>=0.2.1->mystic) (0.3.0)\n",
      "Requirement already satisfied: mpmath>=0.19 in c:\\users\\personal\\anaconda3\\lib\\site-packages (from sympy>=0.6.7->mystic) (1.2.1)\n"
     ]
    }
   ],
   "source": [
    "import numpy as np\n",
    "import pandas as pd\n",
    "! pip install mystic"
   ]
  },
  {
   "cell_type": "markdown",
   "metadata": {},
   "source": [
    "Tenemos la siguiente formulacion\n",
    "\n",
    "$$\n",
    "\\begin{align*}\n",
    "min\\ \\  & 24.55 X_1 + 26.75 X_2 + 39.00 X_3 + 40.50 X_4 \\\\\n",
    "s.a\\ \\  & X_1 + X_2 + X_3 + X_4 = 1 \\\\\n",
    "        & 2.3 X_1 +  5.6 X_2 + 11.1 X_3 +  1.3 X_4 \\geq  5 \\\\\n",
    "        & \\mathbb{P}(21 - (\\varsigma_1 X_1 + \\varsigma_2 X_2 + \\varsigma_3 X_3 + \\varsigma_4 X_4) \\leq 0 ) \\geq \\alpha \\\\\n",
    "        & X_{i} \\geq 0.01 \\ \\ \\text{,\\{i = 1,2,3,4\\}}\n",
    "\\end{align*}\n",
    "$$\n",
    "\n",
    "La cual resuelve el problema de minimizar el costo de un conjunto de ingredientes que satisfacen ciertos requerimientos nutricionales, y en los cuales se asume una distribucion normal e independiente entre la cantidad de proteinas de cada ingrediente."
   ]
  },
  {
   "cell_type": "code",
   "execution_count": 2,
   "metadata": {
    "scrolled": true
   },
   "outputs": [
    {
     "name": "stderr",
     "output_type": "stream",
     "text": [
      "UsageError: Line magic function `%` not found.\n"
     ]
    }
   ],
   "source": [
    "def objetivo(x):\n",
    "    return (24.55*x[0] + 26.75*x[1] + 39.00*x[2] + 40.50*x[3])\n",
    "\n",
    "% Funcion quantile \n",
    "def percentile(p, x):\n",
    "    x = np.sort(x)\n",
    "    p = 0.01 * p * len(x)\n",
    "    if int(p) != p:\n",
    "        return x[int(np.floor(p))]\n",
    "    p = int(p)\n",
    "    return x[p:p+2].mean()\n",
    "\n",
    "\n",
    "from mystic.penalty import quadratic_inequality\n",
    "from mystic.penalty import quadratic_equality\n",
    "\n",
    "M = 50\n",
    "x_1 = np.random.normal(12.0, 0.2809, M)\n",
    "x_2 = np.random.normal(11.9, 0.1936, M)\n",
    "x_3 = np.random.normal(41.8, 20.250, M)\n",
    "x_4 = np.random.normal(52.1, 0.6241, M)\n",
    "\n",
    "varsigma = np.array([x_1,x_2,x_3,x_4]).T\n",
    "\n",
    "\n",
    "\n",
    "def gen_pen(**kwds):\n",
    "    def pen1(x, p, v, **kwd): # 95%(xTsx) - v <= 0\n",
    "        x = np.atleast_2d(x)\n",
    "        return  (v -  percentile(p, [np.dot(varsigma[i],x.T)[0]-21  for i in range(0,M-1)]))\n",
    "\n",
    "    def pen2(x, **kwd):\n",
    "        return (x[0] + x[1] + x[2] + x[3] - 1)\n",
    "    \n",
    "    def pen3(x, **kwd):\n",
    "        return (5 - (2.3* x[0] + 5.6*x[1] + 11.1*x[2] + 1.3*x[3]))\n",
    "    \n",
    "    #def pen4(x, **kwd):\n",
    "    #    return (21 - (12.0* x[0] + 11.9*x[1] + 41.1*x[2] + 52.1*x[3]))\n",
    "    \n",
    "    @quadratic_inequality(pen1, k=1e4, kwds=kwds)\n",
    "    @quadratic_equality( pen2,  k=1e4, kwds=kwds)\n",
    "    @quadratic_inequality(pen3, k=1e4, kwds=kwds)\n",
    "    #@quadratic_inequality(pen4, k=1e4, kwds=kwds)\n",
    "    \n",
    "    def penalty(x):\n",
    "        return 0.0\n",
    "    \n",
    "    return penalty\n",
    "\n",
    "\n",
    "\n",
    "\n",
    "\n",
    "parametros_90 = {\n",
    "    'p': 99,\n",
    "    'v': 0.9\n",
    "}\n",
    "parametros_95 = {\n",
    "    'p': 99,\n",
    "    'v': 0.95\n",
    "}\n",
    "parametros_99 = {\n",
    "    'p': 99,\n",
    "    'v': 0.99\n",
    "}\n",
    "from mystic.solvers import diffev2\n",
    "from mystic.monitors import VerboseMonitor\n",
    "mon = VerboseMonitor(10)\n",
    "\n",
    "penalty_90 = gen_pen(**parametros_90)\n",
    "penalty_95 = gen_pen(**parametros_95)\n",
    "penalty_99 = gen_pen(**parametros_99)\n",
    "\n",
    "bounds = [(0.0, None)]*4\n",
    "\n",
    "result_90 = diffev2(objetivo, x0=bounds,bounds=bounds, penalty=penalty_90, npop=40, gtol=500, disp=False, full_output=True)\n",
    "result_95 = diffev2(objetivo, x0=bounds,bounds=bounds, penalty=penalty_95, npop=40, gtol=500, disp=False, full_output=True)\n",
    "result_99 = diffev2(objetivo, x0=bounds,bounds=bounds, penalty=penalty_99, npop=40, gtol=500, disp=False, full_output=True)\n",
    "#v1,v2,v3,v4 = result[0]\n",
    "\n",
    "#print(f'El porcentaje de aporte nutricional de cada alimento es: \\n Cebada = {v1*100}% \\n Avena = {v2*100}% \\n Copos de Sésamo = {v3*100}% \\n Harina de Maní = {v4*100}%')\n",
    "#print('El valor óptimo obtenido es: '+ str(result[1]))\n",
    "#print('El aporte de grasas es: '+str(np.dot(result[0], [2.3 , 5.6 , 11.1 , 1.3])))\n",
    "#print('El aporte de proteínas es: '+str(np.dot(result[0],[12,11.9, 41.8, 52.1])))\n",
    "data = {'alpha': [0.9, 0.95, 0.99],\n",
    "        'X_1':[result_90[0][0],result_95[0][0],result_99[0][0]],\n",
    "        'X_2':[result_90[0][1],result_95[0][1],result_99[0][1]],\n",
    "        'X_3':[result_90[0][2],result_95[0][2],result_99[0][2]],\n",
    "        'X_4':[result_90[0][3],result_95[0][3],result_99[0][3]],\n",
    "        'Costo':[result_90[1],result_95[1],result_99[1]],\n",
    "        'Aporte Grasa':[np.dot(result_90[0], [2.3 , 5.6 , 11.1 , 1.3]),np.dot(result_95[0], [2.3 , 5.6 , 11.1 , 1.3]),np.dot(result_99[0], [2.3 , 5.6 , 11.1 , 1.3])],\n",
    "        'Aporte Proteina':[np.dot(result_90[0],[12,11.9, 41.8, 52.1]),np.dot(result_95[0],[12,11.9, 41.8, 52.1]),np.dot(result_99[0],[12,11.9, 41.8, 52.1])] }\n",
    "\n",
    "df = pd.DataFrame(data, columns =['alpha', 'X_1','X_2','X_3','X_4','Costo','Aporte Grasa','Aporte Proteina']).set_index('alpha')\n"
   ]
  },
  {
   "cell_type": "code",
   "execution_count": null,
   "metadata": {},
   "outputs": [],
   "source": []
  },
  {
   "cell_type": "markdown",
   "metadata": {},
   "source": [
    "Resolvemos el problema:\n",
    "\n",
    "$$\n",
    "\\begin{align*}\n",
    "min\\ \\  & -X_2 \\\\\n",
    "s.a\\ \\  & c_2 X_1 + 2 X_2 - u(x,c) + v(x,c)  = 0\\\\\n",
    "        & 3 X_1 - u(x,c) - v(x,c) = 0 \\\\\n",
    "        & \\mathbb{P}(- c_1 + u(x,c) - \\frac{1}{2} (c_2+1) X_1 \\leq 0) \\geq \\alpha_1 \\\\\n",
    "        & \\mathbb{P}( -v(x,c) \\leq 0 ) \\geq \\alpha_2 \\\\\n",
    "        & X_{i} \\geq 0 \\ \\ \\text{,\\{i = 1,2\\}}\n",
    "\\end{align*}\n",
    "$$\n"
   ]
  },
  {
   "cell_type": "code",
   "execution_count": null,
   "metadata": {
    "scrolled": false
   },
   "outputs": [],
   "source": [
    "def objetivo2(x):\n",
    "    return -x[1]\n",
    "\n",
    "x_11 = np.random.normal(1,0.1,M)\n",
    "x_22 = np.random.normal(1,0.1,M)\n",
    "\n",
    "C = np.array([x_11,x_22]).T\n",
    "C_bar = C.mean(0)\n",
    "\n",
    "def gen_pen2(**kwds):\n",
    "    def pen1(x, p, v1, **kwd): # p%(-c1 + x1 + x2) - v <= 0\n",
    "        #x = np.atleast_2d(x)\n",
    "        return  (v1 +  percentile(p, [(-C[i][0] + x[0] + x[1]) for i in range(0,M-1)]) - 1)\n",
    "\n",
    "    def pen2(x,p,v2, **kwd):\n",
    "        #x = np.atleast_2d(x)\n",
    "        return (v2 - percentile(p, [(3 - C[i][1] - x[1]) for i in range(0,M-1)]))\n",
    "    \n",
    "    \n",
    "    @quadratic_inequality(pen1, k=1e12, kwds=kwds)\n",
    "    @quadratic_inequality(pen2, k=1e12, kwds=kwds)\n",
    "    def penalty(x):\n",
    "        return 0.0\n",
    "#     \n",
    "    return penalty\n",
    "\n",
    "parametros2 = {\n",
    "    'p': 99,\n",
    "    'v1': 0.9987,\n",
    "    'v2': 0.9987\n",
    "}\n",
    "penalty2 = gen_pen2(**parametros2)\n",
    "\n",
    "bounds2 = [(0,1)]*2\n",
    "\n",
    "result = diffev2(objetivo2, x0=[0.5,0.5],bounds=bounds2, penalty=penalty2, npop=40, gtol=500, disp=False, full_output=True)\n",
    "\n",
    "print(result[0])\n",
    "print(result[1])"
   ]
  },
  {
   "cell_type": "code",
   "execution_count": null,
   "metadata": {},
   "outputs": [],
   "source": [
    "def gen_prueba():\n",
    "    def pen11(x): ## <= 0\n",
    "        return x[0] + x[1] - C_bar[0]\n",
    "    def pen22(x):  ## <= 0\n",
    "        return - 0.5*(3-C_bar[1])*x[0] + x[1]\n",
    "    @quadratic_inequality(pen11, k=1e4)\n",
    "    @quadratic_inequality(pen22, k=1e4)\n",
    "    def penalty(x):\n",
    "        return 0.0\n",
    "    return penalty\n",
    "\n",
    "penalty_prueba = gen_prueba()\n",
    "result1 = diffev2(objetivo2, x0=bounds2,bounds=bounds2, penalty=penalty_prueba, npop=40, gtol=500, disp=False, full_output=True)\n",
    "print(result1[0])\n",
    "print(result1[1])"
   ]
  },
  {
   "cell_type": "code",
   "execution_count": null,
   "metadata": {},
   "outputs": [],
   "source": []
  }
 ],
 "metadata": {
  "kernelspec": {
   "display_name": "Python 3",
   "language": "python",
   "name": "python3"
  },
  "language_info": {
   "codemirror_mode": {
    "name": "ipython",
    "version": 3
   },
   "file_extension": ".py",
   "mimetype": "text/x-python",
   "name": "python",
   "nbconvert_exporter": "python",
   "pygments_lexer": "ipython3",
   "version": "3.8.8"
  }
 },
 "nbformat": 4,
 "nbformat_minor": 4
}
